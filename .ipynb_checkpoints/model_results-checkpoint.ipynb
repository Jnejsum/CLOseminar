{
 "cells": [
  {
   "cell_type": "markdown",
   "id": "1dd0517f-16e4-4835-a161-5006e9293daa",
   "metadata": {
    "tags": []
   },
   "source": [
    "# Model results and figures"
   ]
  },
  {
   "cell_type": "code",
   "execution_count": 22,
   "id": "ec3a984e-b9a3-4d82-bf97-6943062e6033",
   "metadata": {},
   "outputs": [
    {
     "name": "stdout",
     "output_type": "stream",
     "text": [
      "The autoreload extension is already loaded. To reload it, use:\n",
      "  %reload_ext autoreload\n"
     ]
    }
   ],
   "source": [
    "# Importing packages + magics\n",
    "import numpy as np\n",
    "import pandas as pd\n",
    "import matplotlib.pyplot as plt\n",
    "import seaborn as sns\n",
    "\n",
    "%matplotlib inline\n",
    "%load_ext autoreload\n",
    "%autoreload 2\n",
    "\n",
    "# Importing python module(s)\n",
    "import model_functions as model\n",
    "\n",
    "# code for saving figure:\n",
    "# plt.savefig('figures/cumulative_labor', dpi=300, bbox_inches='tight')"
   ]
  },
  {
   "cell_type": "code",
   "execution_count": 23,
   "id": "74159bcc-afe6-42d0-9448-c08576ac0809",
   "metadata": {},
   "outputs": [],
   "source": [
    "# Plotting settings\n",
    "#figure settings\n",
    "import seaborn as sns\n",
    "sns.set(style='ticks', palette=['#88CCEE','#CC6677','#DDCC77','#117733','#332288','#AA4499','#44AA99','#999933','#882255','#661100','#6699CC','#888888'])\n",
    "\n",
    "SMALL_SIZE = 10\n",
    "MEDIUM_SIZE = 14\n",
    "\n",
    "plt.rc('font', size=SMALL_SIZE)          # controls default text sizes\n",
    "plt.rc('axes', titlesize=MEDIUM_SIZE)     # fontsize of the axes title\n",
    "plt.rc('axes', labelsize=MEDIUM_SIZE)    # fontsize of the x and y labels\n",
    "plt.rc('xtick', labelsize=SMALL_SIZE)    # fontsize of the tick labels\n",
    "plt.rc('ytick', labelsize=SMALL_SIZE)    # fontsize of the tick labels\n",
    "plt.rc('legend', fontsize=12)    # legend fontsize\n",
    "plt.rc('figure', titlesize=16)  # fontsize of the figure title"
   ]
  },
  {
   "cell_type": "markdown",
   "id": "573f009f-3e5f-420a-b0ea-eb158c8eaa71",
   "metadata": {},
   "source": [
    "## Figure 1: Simulering af en Geometric Brownian Motion"
   ]
  },
  {
   "cell_type": "code",
   "execution_count": 30,
   "id": "27da0136-de36-4eb2-9b8a-3a99ce6fd49b",
   "metadata": {},
   "outputs": [],
   "source": [
    "sim_model = model.CLOModel(ttm = 4, n = 20) # model instance\n",
    "time = np.linspace(0, sim_model.ttm, sim_model.m+1) # time with freq+1 steps\n",
    "tt = np.full(shape=(sim_model.n, sim_model.m+1), fill_value = time).T\n",
    "sim_array = sim_model.GBM()\n",
    "\n",
    "# Plotting\n",
    "# fig, ax = plt.subplots(1,1, figsize=(10,6))\n",
    "# ax.plot(tt, sim_array);\n",
    "# ax.set_xlim(0, sim_model.ttm)\n",
    "# ax.set_xlabel('År');\n",
    "# ax.set_ylabel('Værdi');\n",
    "# plt.savefig('figures/GBM_simulation', dpi=300, bbox_inches='tight')"
   ]
  },
  {
   "cell_type": "code",
   "execution_count": 43,
   "id": "81564956-e53b-4a4e-ae63-fb412207bb7b",
   "metadata": {},
   "outputs": [
    {
     "data": {
      "text/plain": [
       "array([[[4., 4., 4.],\n",
       "        [4., 4., 4.],\n",
       "        [4., 4., 4.]],\n",
       "\n",
       "       [[4., 4., 4.],\n",
       "        [4., 4., 4.],\n",
       "        [4., 4., 4.]],\n",
       "\n",
       "       [[4., 4., 4.],\n",
       "        [4., 4., 4.],\n",
       "        [4., 4., 4.]]])"
      ]
     },
     "execution_count": 43,
     "metadata": {},
     "output_type": "execute_result"
    }
   ],
   "source": [
    "A = np.ones(shape=(3,3,3)) * 2\n",
    "B = np.ones(shape=(3,3,1)) * 3\n",
    "\n",
    "C = B + A*0.5"
   ]
  },
  {
   "cell_type": "code",
   "execution_count": 49,
   "id": "62ed37e5-3c8f-461c-8da5-23d67f564101",
   "metadata": {},
   "outputs": [
    {
     "data": {
      "text/plain": [
       "array([[4., 4., 4.],\n",
       "       [4., 4., 4.],\n",
       "       [4., 4., 4.]])"
      ]
     },
     "execution_count": 49,
     "metadata": {},
     "output_type": "execute_result"
    }
   ],
   "source": [
    "C[:,:,2]"
   ]
  },
  {
   "cell_type": "code",
   "execution_count": 164,
   "id": "18eb04f6-02cb-4253-aabe-2ddbf8e4cf9b",
   "metadata": {
    "tags": []
   },
   "outputs": [],
   "source": [
    "# asset value process parameters\n",
    "V0 = 100 # asset value period 0\n",
    "mu = 0.1 # drift coefficient\n",
    "sigma_m = 0.1 # market variance parameter\n",
    "sigma_j = 0.1 # firm level variance parameter\n",
    "sigma = (sigma_m ** 2 + sigma_j ** 2) ** 0.5 # total variance parameter\n",
    "T = 3 # maturity\n",
    "\n",
    "# simulation parameters\n",
    "m = 2 # number of steps per year (granularity of process)\n",
    "n = 4 # number of simulations\n",
    "j = 6 # number of loans\n",
    "\n",
    "# (1) define calculation parts\n",
    "dt = 1 / 100\n",
    "drift = mu - 0.5 * sigma ** 2\n",
    "\n",
    "# (2) draw and prepare array\n",
    "np.random.seed(50) # set seed\n",
    "W = np.random.normal(loc=0, scale=np.sqrt(dt), size=(m, n, j)) # draw normal distribution\n",
    "St = np.exp(drift * dt + sigma)"
   ]
  },
  {
   "cell_type": "code",
   "execution_count": null,
   "id": "21619a07-8a84-483f-850a-9f603d9943c3",
   "metadata": {},
   "outputs": [],
   "source": [
    " # (1) define calculation parts\n",
    "        dt = self.ttm / self.m # calculate each step (total time / frequency)\n",
    "        drift = self.mu - 0.5 * self.sigma ** 2\n",
    "        \n",
    "        # (2) draw and prepare array\n",
    "        np.random.seed(50) # set seed\n",
    "        W = np.random.normal(loc=0, scale=np.sqrt(dt), size=(self.n, self.m)) # draw normal dist\n",
    "        St = np.exp(drift * dt + self.sigma * np.transpose(W))\n",
    "        St = np.vstack([np.ones(self.n), St])\n",
    "        \n",
    "        # use cumulative product (over rows) to calculate simulation paths, and multiply by initial value V0\n",
    "        \n",
    "        #Might want to do this to save the normal draws too:\n",
    "        # if return_normal:\n",
    "            # return self.S0 * St.cumprod(axis=0), normal\n",
    "        \n",
    "        return self.S0 * St.cumprod(axis=0) # axis=0 to calculate over rows"
   ]
  }
 ],
 "metadata": {
  "kernelspec": {
   "display_name": "Python 3 (ipykernel)",
   "language": "python",
   "name": "python3"
  },
  "language_info": {
   "codemirror_mode": {
    "name": "ipython",
    "version": 3
   },
   "file_extension": ".py",
   "mimetype": "text/x-python",
   "name": "python",
   "nbconvert_exporter": "python",
   "pygments_lexer": "ipython3",
   "version": "3.8.13"
  }
 },
 "nbformat": 4,
 "nbformat_minor": 5
}
